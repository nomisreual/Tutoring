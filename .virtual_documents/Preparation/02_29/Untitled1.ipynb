


# Class modelling our user:
class User:
    def __init__(self, username, password = "1234"):
        self._username = username
        self._password = password

    @property
    def username(self):
        return self._username

    @username.setter
    def username(self, username):
        self._username = username

    @property
    def password(self):
        return self._password

    @password.setter
    def password(self, password):
        self._password = password

# "Database" with unique constraint on username:
class UserRegistry:
    def __init__(self):
        self.users = {}
    def add_user(self, user: User):
        if user.username in self.users.keys():
            raise Exception
        else:
            self.users[user.username] = user.password


# Set up a user registry:
user_registry = UserRegistry()

# Fill up the "database" with users:
usernames = ["Simon", "Pete", "George", "Linda"]
users = [User(username) for username in usernames]
for user in users:
    user_registry.add_user(user)


# A new user comes along, also called Simon:
user_registry.add_user(User(username="Simon"))


# Let's handle this:
def registration(username):
    try:
        user_registry.add_user(User(username=username))
    except Exception:
        print(f"That username: {username} is already taken. Please choose another username.")
    else:
        print(f"Your account has been created. Welcome {username}.")

registration("Simon")
registration("Henry")




