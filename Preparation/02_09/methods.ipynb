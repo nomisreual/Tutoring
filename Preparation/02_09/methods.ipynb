{
 "cells": [
  {
   "cell_type": "code",
   "execution_count": null,
   "id": "4bdc9938-e0de-4ff9-bb34-21dd7669daff",
   "metadata": {
    "jupyter": {
     "source_hidden": true
    }
   },
   "outputs": [],
   "source": [
    "# Let's talk about classes and methods you can define in them.\n",
    "# We cover three types (yes, there is more):\n",
    "# instance methods\n",
    "# class methods\n",
    "# static methods"
   ]
  },
  {
   "cell_type": "code",
   "execution_count": null,
   "id": "b4716870-5da2-4c2c-a2aa-e9810421b857",
   "metadata": {
    "jupyter": {
     "source_hidden": true
    }
   },
   "outputs": [],
   "source": [
    "# Let's first create a simple class akin to what was used in class:\n",
    "\n",
    "class User:\n",
    "    is_admin = False\n",
    "    \n",
    "    def __init__(self):\n",
    "        self._name = name\n",
    "\n",
    "# A class with a class attribute is_admin and an instance attribute _name."
   ]
  },
  {
   "cell_type": "code",
   "execution_count": null,
   "id": "b0ee2466-bdf0-4c02-9b0c-e690b3bc7512",
   "metadata": {
    "jupyter": {
     "source_hidden": true
    }
   },
   "outputs": [],
   "source": [
    "# Expand it with an instance method (regular method):\n",
    "\n",
    "class User:\n",
    "    is_admin = False\n",
    "    \n",
    "    def __init__(self, name):\n",
    "        self._name = name\n",
    "\n",
    "    def get_name(self):\n",
    "        return self._name\n",
    "\n",
    "user = User(\"Simon\")\n",
    "print(user.is_admin)\n",
    "print(user.get_name())\n",
    "\n",
    "# Instance methods have access to properties of a particular instance,\n",
    "# and access to class attributes.\n"
   ]
  },
  {
   "cell_type": "code",
   "execution_count": null,
   "id": "6f0063a3-31c3-43ad-a1b2-82350bd3688a",
   "metadata": {
    "jupyter": {
     "source_hidden": true
    }
   },
   "outputs": [],
   "source": [
    "# Class methods:\n",
    "class User:\n",
    "    is_admin = False\n",
    "    \n",
    "    def __init__(self, name):\n",
    "        self._name = name\n",
    "\n",
    "    def get_name(self):\n",
    "        return self._name\n",
    "        \n",
    "    @classmethod\n",
    "    def change_status(cls):\n",
    "        if cls.is_admin == False:\n",
    "            cls.is_admin = True\n",
    "        else:\n",
    "            cls.is_admin = False\n",
    "\n",
    "user1 = User(\"Simon\")\n",
    "print(user1.is_admin)\n",
    "\n",
    "User.change_status()\n",
    "\n",
    "user2 = User(\"John\")\n",
    "\n",
    "print(user1.is_admin, user2.is_admin)\n",
    "\n",
    "user1.change_status()\n",
    "print(user1.is_admin, user2.is_admin)\n",
    "\n",
    "# Another neat trick: you can define a class method that returns an instance of that class!"
   ]
  },
  {
   "cell_type": "code",
   "execution_count": null,
   "id": "15557d24-439c-4b5c-a934-1e28457d59c2",
   "metadata": {
    "jupyter": {
     "source_hidden": true
    }
   },
   "outputs": [],
   "source": [
    "# Static methods: static methods are not easy to motivate.\n",
    "# they have access to neither instance nor class attributes, so why bother?\n",
    "# They are functionality you want to attach to your class that does not depend\n",
    "# on its attributes. Basically, keep it there to organize instead of defining it\n",
    "# somewhere.\n",
    "\n",
    "# Let's say we want to be able to create some sort of access engine (class) for users...\n",
    "\n",
    "class AccessEngine:\n",
    "    def __init__(self, credentials):\n",
    "        pass\n",
    "\n",
    "class User:\n",
    "    is_admin = False\n",
    "    \n",
    "    def __init__(self, name):\n",
    "        self._name = name\n",
    "\n",
    "    def get_name(self):\n",
    "        return self._name\n",
    "        \n",
    "    @classmethod\n",
    "    def change_status(cls):\n",
    "        if cls.is_admin == False:\n",
    "            cls.is_admin = True\n",
    "        else:\n",
    "            cls.is_admin = False\n",
    "\n",
    "    @staticmethod\n",
    "    def create_engine(credentials):\n",
    "        engine = AccessEngine(credentials)\n",
    "        return engine\n",
    "\n",
    "user1 = User(\"Simon\")\n",
    "cred = {\"username\": \"simon\", \"password\": \"you_will_not_guess\"}\n",
    "acc_eng = user1.create_engine(cred)"
   ]
  },
  {
   "cell_type": "code",
   "execution_count": null,
   "id": "27177552-53c8-4ce1-b117-a0eb0636de89",
   "metadata": {
    "jupyter": {
     "source_hidden": true
    }
   },
   "outputs": [],
   "source": []
  }
 ],
 "metadata": {
  "kernelspec": {
   "display_name": "Python 3 (ipykernel)",
   "language": "python",
   "name": "python3"
  },
  "language_info": {
   "codemirror_mode": {
    "name": "ipython",
    "version": 3
   },
   "file_extension": ".py",
   "mimetype": "text/x-python",
   "name": "python",
   "nbconvert_exporter": "python",
   "pygments_lexer": "ipython3",
   "version": "3.11.6"
  }
 },
 "nbformat": 4,
 "nbformat_minor": 5
}
