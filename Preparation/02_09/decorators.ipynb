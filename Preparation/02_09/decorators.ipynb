{
 "cells": [
  {
   "cell_type": "code",
   "execution_count": null,
   "id": "06135774-0db5-46a6-94d0-b95ccbd442b2",
   "metadata": {
    "jupyter": {
     "source_hidden": true
    }
   },
   "outputs": [],
   "source": [
    "# Functions can be used just like any other object in Python"
   ]
  },
  {
   "cell_type": "code",
   "execution_count": null,
   "id": "84c21ad1-3f9f-4869-a676-99f6a721733d",
   "metadata": {
    "jupyter": {
     "source_hidden": true
    }
   },
   "outputs": [],
   "source": [
    "# Functions can be passed as argument:\n",
    "\n",
    "def greeter():\n",
    "    return \"Hello, \"\n",
    "\n",
    "def greet(name, func):\n",
    "    return func() + name\n",
    "\n",
    "greet(\"Simon\", greeter)"
   ]
  },
  {
   "cell_type": "code",
   "execution_count": null,
   "id": "d11e1e4b-cf79-45c0-a496-119097f6c001",
   "metadata": {
    "jupyter": {
     "source_hidden": true
    }
   },
   "outputs": [],
   "source": [
    "# Functions can be defined inside of other functions:\n",
    "\n",
    "def say_hello(name):\n",
    "    \n",
    "    def shout(txt):\n",
    "        return txt.upper()\n",
    "        \n",
    "    return f\"Hello, {shout(name)}\"\n",
    "\n",
    "say_hello(\"Simon\")"
   ]
  },
  {
   "cell_type": "code",
   "execution_count": null,
   "id": "027ffdf1-8a44-43a1-8b8f-3a82cbb218dc",
   "metadata": {
    "jupyter": {
     "source_hidden": true
    }
   },
   "outputs": [],
   "source": [
    "# Functions can be returned:\n",
    "\n",
    "def repeat_yourself(n):\n",
    "    def phrase(n):\n",
    "        return n * \"Hello \"\n",
    "    return phrase\n",
    "\n",
    "returned_function = repeat_yourself(3)\n",
    "returned_function(3)"
   ]
  },
  {
   "cell_type": "code",
   "execution_count": null,
   "id": "e6134b1e-dedd-4f46-9dbf-e69c7a89dc5b",
   "metadata": {
    "jupyter": {
     "source_hidden": true
    }
   },
   "outputs": [],
   "source": [
    "# Decorators are functions that accept a function,\n",
    "# create a new function which does something before/ after the passed in function is called\n",
    "# and return the newly created function.\n",
    "\n",
    "# Example:\n",
    "def simple_decorator(func):\n",
    "    def wrapper():\n",
    "        print(\"Do something before calling the function.\")\n",
    "        func()\n",
    "        print(\"Do something after calling the function.\")\n",
    "    return wrapper\n",
    "\n",
    "# Let's define a function to be wrapped:\n",
    "def hi():\n",
    "    print(\"Hi!\")\n",
    "\n",
    "# And now let's decorate it:\n",
    "\n",
    "hi_decorated = simple_decorator(hi)\n",
    "hi_decorated()\n",
    "\n",
    "# Python adds some syntactic sugar to sweaten the deal so instead we could have done:\n",
    "@simple_decorator\n",
    "def bye():\n",
    "    print(\"Bye\")\n",
    "\n",
    "bye()"
   ]
  },
  {
   "cell_type": "code",
   "execution_count": null,
   "id": "49cdccf4-1f41-4672-8d2b-321e9bf7c5b3",
   "metadata": {
    "jupyter": {
     "source_hidden": true
    }
   },
   "outputs": [],
   "source": [
    "# There are two important things to consider:\n",
    "# - first: functions may take arguments, so our wrapper needs to be able to handle it.\n",
    "# - second: functions may return something, so our wrapper needs to be able to handle that as weel."
   ]
  },
  {
   "cell_type": "code",
   "execution_count": null,
   "id": "ca9c8eac-a430-4691-81f7-04d0876a2204",
   "metadata": {
    "jupyter": {
     "source_hidden": true
    }
   },
   "outputs": [],
   "source": [
    "# To demonstrate the first issue:\n",
    "def simple_decorator(func):\n",
    "    def wrapper():\n",
    "        print(\"Do something before calling the function.\")\n",
    "        func()\n",
    "        print(\"Do something after calling the function.\")\n",
    "    return wrapper\n",
    "\n",
    "@simple_decorator\n",
    "def hello(name):\n",
    "    print(f\"Hello, {name}\")\n",
    "\n",
    "# Calling the decorated function will cause an error as the wrapper is passed in an argument,\n",
    "# but he doesn't accept any!\n",
    "# Calling a decorated function basically means, under the hood, calling the wrapper function!\n",
    "# hello(\"Simon\")"
   ]
  },
  {
   "cell_type": "code",
   "execution_count": null,
   "id": "96d9c0e1-7952-4cc1-be31-d74514fe1e23",
   "metadata": {
    "jupyter": {
     "source_hidden": true
    }
   },
   "outputs": [],
   "source": [
    "# Let's fix issue one:\n",
    "\n",
    "def simple_decorator(func):\n",
    "    def wrapper(*args, **kwargs):\n",
    "        print(\"Do something before calling the function.\")\n",
    "        func(*args, **kwargs)\n",
    "        print(\"Do something after calling the function.\")\n",
    "    return wrapper\n",
    "\n",
    "@simple_decorator\n",
    "def hello(name):\n",
    "    print(f\"Hello, {name}\")\n",
    "\n",
    "hello(\"Simon\")"
   ]
  },
  {
   "cell_type": "code",
   "execution_count": null,
   "id": "c73a2e23-44ab-469b-a6c6-c131f126c0d6",
   "metadata": {
    "jupyter": {
     "source_hidden": true
    }
   },
   "outputs": [],
   "source": [
    "# With that in mind let's consider the second issue.\n",
    "\n",
    "def simple_decorator(func):\n",
    "    def wrapper(*args, **kwargs):\n",
    "        print(\"Do something before calling the function.\")\n",
    "        func(*args, **kwargs)\n",
    "        print(\"Do something after calling the function.\")\n",
    "    return wrapper\n",
    "\n",
    "@simple_decorator\n",
    "def add_one(n):\n",
    "    return n + 1\n",
    "\n",
    "y = add_one(5)\n",
    "print(y)\n",
    "\n",
    "# Ooops, our decorated function returns None!\n",
    "# Remember, we are in essence calling the wrapper when calling a decorated function.\n",
    "# And our wrapper doesn't return anything!"
   ]
  },
  {
   "cell_type": "code",
   "execution_count": null,
   "id": "8c9cb652-9621-4476-bfde-0829011463fb",
   "metadata": {
    "jupyter": {
     "source_hidden": true
    }
   },
   "outputs": [],
   "source": [
    "# To fix that:\n",
    "def simple_decorator(func):\n",
    "    def wrapper(*args, **kwargs):\n",
    "        print(\"Do something before calling the function.\")\n",
    "        value = func(*args, **kwargs)\n",
    "        print(\"Do something after calling the function.\")\n",
    "        return value\n",
    "    return wrapper\n",
    "\n",
    "@simple_decorator\n",
    "def add_one(n):\n",
    "    return n + 1\n",
    "\n",
    "y = add_one(5)\n",
    "print(y)"
   ]
  },
  {
   "cell_type": "code",
   "execution_count": null,
   "id": "b12e6a6b-2676-4308-a123-a617a67d0fdb",
   "metadata": {
    "jupyter": {
     "source_hidden": true
    }
   },
   "outputs": [],
   "source": [
    "# One final note: as we are basically calling the wrapper, our decorated function\n",
    "# looses its sense of who it is.\n",
    "\n",
    "def simple_decorator(func):\n",
    "    def wrapper(*args, **kwargs):\n",
    "        print(\"Do something before calling the function.\")\n",
    "        value = func(*args, **kwargs)\n",
    "        print(\"Do something after calling the function.\")\n",
    "        return value\n",
    "    return wrapper\n",
    "\n",
    "@simple_decorator\n",
    "def add_one(n):\n",
    "    return n + 1\n",
    "\n",
    "print(add_one.__name__)\n",
    "print(add_one)\n",
    "\n",
    "# Our function thinks it's called wrapper!"
   ]
  },
  {
   "cell_type": "code",
   "execution_count": null,
   "id": "592122a5-c78d-4066-8f5a-816b1fd7d225",
   "metadata": {
    "jupyter": {
     "source_hidden": true
    }
   },
   "outputs": [],
   "source": [
    "# To fix the identity crisis we can decorate our wrapper. Yeah, I know.\n",
    "\n",
    "import functools\n",
    "\n",
    "\n",
    "def simple_decorator(func):\n",
    "    @functools.wraps(func)\n",
    "    def wrapper(*args, **kwargs):\n",
    "        print(\"Do something before calling the function.\")\n",
    "        value = func(*args, **kwargs)\n",
    "        print(\"Do something after calling the function.\")\n",
    "        return value\n",
    "    return wrapper\n",
    "\n",
    "@simple_decorator\n",
    "def add_one(n):\n",
    "    return n + 1\n",
    "\n",
    "print(add_one.__name__)\n",
    "print(add_one)\n",
    "\n",
    "# Identity crisis averted!"
   ]
  },
  {
   "cell_type": "code",
   "execution_count": null,
   "id": "36a8318d-8576-4af7-9cea-8e15e2915561",
   "metadata": {
    "jupyter": {
     "source_hidden": true
    }
   },
   "outputs": [],
   "source": [
    "# Here is a boilerplate template for constructing decorators\n",
    "# which adds everything discussed together!\n",
    "\n",
    "def boilerplate(func):\n",
    "    @functools.wraps(func)\n",
    "    def wrapper(*args, **kwargs):\n",
    "        # do something before\n",
    "        value = func(*args, **kwargs)\n",
    "        # do something after\n",
    "        return value\n",
    "\n",
    "    return wrapper"
   ]
  },
  {
   "cell_type": "code",
   "execution_count": null,
   "id": "b3328381-2bf6-40d3-8ad0-36285a923864",
   "metadata": {
    "jupyter": {
     "source_hidden": true
    }
   },
   "outputs": [],
   "source": []
  }
 ],
 "metadata": {
  "kernelspec": {
   "display_name": "Python 3 (ipykernel)",
   "language": "python",
   "name": "python3"
  },
  "language_info": {
   "codemirror_mode": {
    "name": "ipython",
    "version": 3
   },
   "file_extension": ".py",
   "mimetype": "text/x-python",
   "name": "python",
   "nbconvert_exporter": "python",
   "pygments_lexer": "ipython3",
   "version": "3.11.6"
  }
 },
 "nbformat": 4,
 "nbformat_minor": 5
}
