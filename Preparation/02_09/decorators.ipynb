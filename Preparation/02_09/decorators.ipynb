{
 "cells": [
  {
   "cell_type": "code",
   "execution_count": 31,
   "id": "06135774-0db5-46a6-94d0-b95ccbd442b2",
   "metadata": {},
   "outputs": [],
   "source": [
    "# Functions can be used just like any other object in Python"
   ]
  },
  {
   "cell_type": "code",
   "execution_count": 32,
   "id": "84c21ad1-3f9f-4869-a676-99f6a721733d",
   "metadata": {},
   "outputs": [
    {
     "data": {
      "text/plain": [
       "'Hello, Simon'"
      ]
     },
     "execution_count": 32,
     "metadata": {},
     "output_type": "execute_result"
    }
   ],
   "source": [
    "# Functions can be passed as argument:\n",
    "\n",
    "def greeter():\n",
    "    return \"Hello, \"\n",
    "\n",
    "def greet(name: str, greeter):\n",
    "    return greeter() + name\n",
    "\n",
    "greet(\"Simon\", greeter=greeter)"
   ]
  },
  {
   "cell_type": "code",
   "execution_count": 33,
   "id": "d11e1e4b-cf79-45c0-a496-119097f6c001",
   "metadata": {},
   "outputs": [
    {
     "data": {
      "text/plain": [
       "'Hello, SIMON'"
      ]
     },
     "execution_count": 33,
     "metadata": {},
     "output_type": "execute_result"
    }
   ],
   "source": [
    "# Functions can be defined inside of other functions:\n",
    "\n",
    "def say_hello(name):\n",
    "    \n",
    "    def shout(txt):\n",
    "        return txt.upper()\n",
    "        \n",
    "    return f\"Hello, {shout(name)}\"\n",
    "\n",
    "say_hello(\"Simon\")"
   ]
  },
  {
   "cell_type": "code",
   "execution_count": 34,
   "id": "027ffdf1-8a44-43a1-8b8f-3a82cbb218dc",
   "metadata": {},
   "outputs": [
    {
     "data": {
      "text/plain": [
       "'Hello Hello Hello '"
      ]
     },
     "execution_count": 34,
     "metadata": {},
     "output_type": "execute_result"
    }
   ],
   "source": [
    "# Functions can be returned:\n",
    "\n",
    "def repeat_yourself():\n",
    "    def phrase(n: int):\n",
    "        return n * \"Hello \"\n",
    "    return phrase\n",
    "\n",
    "returned_function = repeat_yourself()\n",
    "returned_function(3)"
   ]
  },
  {
   "cell_type": "code",
   "execution_count": 35,
   "id": "e6134b1e-dedd-4f46-9dbf-e69c7a89dc5b",
   "metadata": {},
   "outputs": [
    {
     "name": "stdout",
     "output_type": "stream",
     "text": [
      "Do something before calling the function.\n",
      "Hi!\n",
      "Do something after calling the function.\n",
      "Do something before calling the function.\n",
      "Bye\n",
      "Do something after calling the function.\n"
     ]
    }
   ],
   "source": [
    "# Decorators are functions that accept a function,\n",
    "# create a new function which does something before/ after the passed in function is called\n",
    "# and return the newly created function.\n",
    "\n",
    "# Example:\n",
    "def simple_decorator(func):\n",
    "    def wrapper():\n",
    "        print(\"Do something before calling the function.\")\n",
    "        func()\n",
    "        print(\"Do something after calling the function.\")\n",
    "    return wrapper\n",
    "\n",
    "# Let's define a function to be wrapped:\n",
    "def hi():\n",
    "    print(\"Hi!\")\n",
    "\n",
    "# And now let's decorate it:\n",
    "\n",
    "hi_decorated = simple_decorator(hi)\n",
    "hi_decorated()\n",
    "\n",
    "# Python adds some syntactic sugar to sweaten the deal so instead we could have done:\n",
    "@simple_decorator\n",
    "def bye():\n",
    "    print(\"Bye\")\n",
    "\n",
    "bye()"
   ]
  },
  {
   "cell_type": "code",
   "execution_count": 36,
   "id": "49cdccf4-1f41-4672-8d2b-321e9bf7c5b3",
   "metadata": {},
   "outputs": [],
   "source": [
    "# There are two important things to consider:\n",
    "# - first: functions may take arguments, so our wrapper needs to be able to handle it.\n",
    "# - second: functions may return something, so our wrapper needs to be able to handle that as weel."
   ]
  },
  {
   "cell_type": "code",
   "execution_count": 37,
   "id": "ca9c8eac-a430-4691-81f7-04d0876a2204",
   "metadata": {},
   "outputs": [
    {
     "ename": "TypeError",
     "evalue": "simple_decorator.<locals>.wrapper() takes 0 positional arguments but 1 was given",
     "output_type": "error",
     "traceback": [
      "\u001b[0;31m---------------------------------------------------------------------------\u001b[0m",
      "\u001b[0;31mTypeError\u001b[0m                                 Traceback (most recent call last)",
      "Cell \u001b[0;32mIn[37], line 16\u001b[0m\n\u001b[1;32m     11\u001b[0m     \u001b[38;5;28mprint\u001b[39m(\u001b[38;5;124mf\u001b[39m\u001b[38;5;124m\"\u001b[39m\u001b[38;5;124mHello, \u001b[39m\u001b[38;5;132;01m{\u001b[39;00mname\u001b[38;5;132;01m}\u001b[39;00m\u001b[38;5;124m\"\u001b[39m)\n\u001b[1;32m     13\u001b[0m \u001b[38;5;66;03m# Calling the decorated function will cause an error as the wrapper is passed in an argument,\u001b[39;00m\n\u001b[1;32m     14\u001b[0m \u001b[38;5;66;03m# but he doesn't accept any!\u001b[39;00m\n\u001b[1;32m     15\u001b[0m \u001b[38;5;66;03m# Calling a decorated function basically means, under the hood, calling the wrapper function!\u001b[39;00m\n\u001b[0;32m---> 16\u001b[0m \u001b[43mhello\u001b[49m\u001b[43m(\u001b[49m\u001b[38;5;124;43m\"\u001b[39;49m\u001b[38;5;124;43mSimon\u001b[39;49m\u001b[38;5;124;43m\"\u001b[39;49m\u001b[43m)\u001b[49m\n",
      "\u001b[0;31mTypeError\u001b[0m: simple_decorator.<locals>.wrapper() takes 0 positional arguments but 1 was given"
     ]
    }
   ],
   "source": [
    "# To demonstrate the first issue:\n",
    "def simple_decorator(func):\n",
    "    def wrapper():\n",
    "        print(\"Do something before calling the function.\")\n",
    "        func()\n",
    "        print(\"Do something after calling the function.\")\n",
    "    return wrapper\n",
    "\n",
    "@simple_decorator\n",
    "def hello(name):\n",
    "    print(f\"Hello, {name}\")\n",
    "\n",
    "# Calling the decorated function will cause an error as the wrapper is passed in an argument,\n",
    "# but he doesn't accept any!\n",
    "# Calling a decorated function basically means, under the hood, calling the wrapper function!\n",
    "hello(\"Simon\")"
   ]
  },
  {
   "cell_type": "code",
   "execution_count": 38,
   "id": "96d9c0e1-7952-4cc1-be31-d74514fe1e23",
   "metadata": {},
   "outputs": [
    {
     "name": "stdout",
     "output_type": "stream",
     "text": [
      "Do something before calling the function.\n",
      "Hello, Simon\n",
      "Do something after calling the function.\n"
     ]
    }
   ],
   "source": [
    "# Let's fix issue one:\n",
    "\n",
    "def simple_decorator(func):\n",
    "    def wrapper(*args, **kwargs):\n",
    "        print(\"Do something before calling the function.\")\n",
    "        func(*args, **kwargs)\n",
    "        print(\"Do something after calling the function.\")\n",
    "    return wrapper\n",
    "\n",
    "@simple_decorator\n",
    "def hello(name):\n",
    "    print(f\"Hello, {name}\")\n",
    "\n",
    "hello(\"Simon\")"
   ]
  },
  {
   "cell_type": "code",
   "execution_count": 39,
   "id": "c73a2e23-44ab-469b-a6c6-c131f126c0d6",
   "metadata": {},
   "outputs": [
    {
     "name": "stdout",
     "output_type": "stream",
     "text": [
      "Do something before calling the function.\n",
      "Do something after calling the function.\n",
      "None\n"
     ]
    }
   ],
   "source": [
    "# With that in mind let's consider the second issue.\n",
    "\n",
    "def simple_decorator(func):\n",
    "    def wrapper(*args, **kwargs):\n",
    "        print(\"Do something before calling the function.\")\n",
    "        func(*args, **kwargs)\n",
    "        print(\"Do something after calling the function.\")\n",
    "    return wrapper\n",
    "\n",
    "@simple_decorator\n",
    "def add_one(n):\n",
    "    return n + 1\n",
    "\n",
    "y = add_one(5)\n",
    "print(y)\n",
    "\n",
    "# Ooops, our decorated function returns None!\n",
    "# Remember, we are in essence calling the wrapper when calling a decorated function.\n",
    "# And our wrapper doesn't return anything!"
   ]
  },
  {
   "cell_type": "code",
   "execution_count": 40,
   "id": "8c9cb652-9621-4476-bfde-0829011463fb",
   "metadata": {},
   "outputs": [
    {
     "name": "stdout",
     "output_type": "stream",
     "text": [
      "Do something before calling the function.\n",
      "Do something after calling the function.\n",
      "6\n"
     ]
    }
   ],
   "source": [
    "# To fix that:\n",
    "def simple_decorator(func):\n",
    "    def wrapper(*args, **kwargs):\n",
    "        print(\"Do something before calling the function.\")\n",
    "        value = func(*args, **kwargs)\n",
    "        print(\"Do something after calling the function.\")\n",
    "        return value\n",
    "    return wrapper\n",
    "\n",
    "@simple_decorator\n",
    "def add_one(n):\n",
    "    return n + 1\n",
    "\n",
    "y = add_one(5)\n",
    "print(y)"
   ]
  },
  {
   "cell_type": "code",
   "execution_count": 41,
   "id": "b12e6a6b-2676-4308-a123-a617a67d0fdb",
   "metadata": {},
   "outputs": [
    {
     "name": "stdout",
     "output_type": "stream",
     "text": [
      "wrapper\n",
      "<function simple_decorator.<locals>.wrapper at 0x70e3a442d080>\n"
     ]
    }
   ],
   "source": [
    "# One final note: as we are basically calling the wrapper, our decorated function\n",
    "# looses its sense of who it is.\n",
    "\n",
    "def simple_decorator(func):\n",
    "    def wrapper(*args, **kwargs):\n",
    "        print(\"Do something before calling the function.\")\n",
    "        value = func(*args, **kwargs)\n",
    "        print(\"Do something after calling the function.\")\n",
    "        return value\n",
    "    return wrapper\n",
    "\n",
    "@simple_decorator\n",
    "def add_one(n):\n",
    "    return n + 1\n",
    "\n",
    "print(add_one.__name__)\n",
    "print(add_one)\n",
    "\n",
    "# Our function thinks it's called wrapper!"
   ]
  },
  {
   "cell_type": "code",
   "execution_count": 42,
   "id": "592122a5-c78d-4066-8f5a-816b1fd7d225",
   "metadata": {},
   "outputs": [
    {
     "name": "stdout",
     "output_type": "stream",
     "text": [
      "add_one\n",
      "<function add_one at 0x70e3a442fb00>\n"
     ]
    }
   ],
   "source": [
    "# To fix the identity crisis we can decorate our wrapper. Yeah, I know.\n",
    "\n",
    "import functools\n",
    "\n",
    "\n",
    "def simple_decorator(func):\n",
    "    @functools.wraps(func)\n",
    "    def wrapper(*args, **kwargs):\n",
    "        print(\"Do something before calling the function.\")\n",
    "        value = func(*args, **kwargs)\n",
    "        print(\"Do something after calling the function.\")\n",
    "        return value\n",
    "    return wrapper\n",
    "\n",
    "@simple_decorator\n",
    "def add_one(n):\n",
    "    return n + 1\n",
    "\n",
    "print(add_one.__name__)\n",
    "print(add_one)\n",
    "\n",
    "# Identity crisis averted!"
   ]
  },
  {
   "cell_type": "code",
   "execution_count": 43,
   "id": "36a8318d-8576-4af7-9cea-8e15e2915561",
   "metadata": {},
   "outputs": [],
   "source": [
    "# Here is a boilerplate template for constructing decorators\n",
    "# which adds everything discussed together!\n",
    "\n",
    "def boilerplate(func):\n",
    "    @functools.wraps(func)\n",
    "    def wrapper(*args, **kwargs):\n",
    "        # do something before\n",
    "        value = func(*args, **kwargs)\n",
    "        # do something after\n",
    "        return value\n",
    "\n",
    "    return wrapper"
   ]
  },
  {
   "cell_type": "code",
   "execution_count": null,
   "id": "b3328381-2bf6-40d3-8ad0-36285a923864",
   "metadata": {},
   "outputs": [],
   "source": []
  }
 ],
 "metadata": {
  "kernelspec": {
   "display_name": "Python 3 (ipykernel)",
   "language": "python",
   "name": "python3"
  },
  "language_info": {
   "codemirror_mode": {
    "name": "ipython",
    "version": 3
   },
   "file_extension": ".py",
   "mimetype": "text/x-python",
   "name": "python",
   "nbconvert_exporter": "python",
   "pygments_lexer": "ipython3",
   "version": "3.11.6"
  }
 },
 "nbformat": 4,
 "nbformat_minor": 5
}
