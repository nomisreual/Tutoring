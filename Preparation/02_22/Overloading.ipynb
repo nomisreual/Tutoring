{
 "cells": [
  {
   "cell_type": "markdown",
   "id": "e50d4da7-2b7a-4684-bcef-a8b493094a68",
   "metadata": {},
   "source": [
    "# Method overloading:\n",
    "When inheriting from other classes we can overwrite inherited methods, or overload them (modifying their behaviour)."
   ]
  },
  {
   "cell_type": "code",
   "execution_count": 12,
   "id": "8e38de9c-9b71-4d74-b5a0-592d08b5829d",
   "metadata": {},
   "outputs": [
    {
     "name": "stdout",
     "output_type": "stream",
     "text": [
      "What do I care?\n",
      "Well done! I suppose.\n"
     ]
    }
   ],
   "source": [
    "class Parent:\n",
    "    def give_feedback(self):\n",
    "        return \"Well done!\"\n",
    "\n",
    "# Overwriting\n",
    "class ChildOne(Parent):\n",
    "    def give_feedback(self):\n",
    "        return \"What do I care?\"\n",
    "        \n",
    "# Overloading\n",
    "class ChildTwo(Parent):\n",
    "    def give_feedback(self):\n",
    "        msg = super().give_feedback()\n",
    "        return f\"{msg} I suppose.\"\n",
    "\n",
    "child1 = ChildOne()\n",
    "print(child1.give_feedback())\n",
    "\n",
    "child2 = ChildTwo()\n",
    "print(child2.give_feedback())"
   ]
  },
  {
   "cell_type": "code",
   "execution_count": 13,
   "id": "cd344d4b-5324-42ed-a5cb-e3c0adbf5ef0",
   "metadata": {},
   "outputs": [
    {
     "name": "stdout",
     "output_type": "stream",
     "text": [
      "Simon 33\n",
      "Hello, my name is Simon. What's your name?\n",
      "Leave me alone!\n",
      "With my 33, I am too old for this.\n"
     ]
    }
   ],
   "source": [
    "# Overloading with arguments:\n",
    "\n",
    "class A:\n",
    "    def __init__(self, name):\n",
    "        self.name = name\n",
    "\n",
    "    def say_hi(self, mood):\n",
    "        if mood == \"happy\":\n",
    "            return f\"Hello, my name is {self.name}. What's your name?\"\n",
    "        else:\n",
    "            return \"Leave me alone!\"\n",
    "\n",
    "class B(A):\n",
    "    def __init__(self, name, age):\n",
    "        super().__init__(name)\n",
    "        self.age = age\n",
    "    def say_hi(self, mood):\n",
    "        if mood == \"happy\":\n",
    "            return super().say_hi(mood)\n",
    "        elif mood == \"sad\":\n",
    "            return f\"With my {self.age}, I am too old for this.\"\n",
    "        else:\n",
    "            return super().say_hi(mood)\n",
    "\n",
    "b = B(\"Simon\", 33)\n",
    "print(b.name, b.age)\n",
    "print(b.say_hi(\"happy\"))\n",
    "print(b.say_hi(\"grumpy\")) \n",
    "print(b.say_hi(\"sad\"))\n",
    "        "
   ]
  },
  {
   "cell_type": "code",
   "execution_count": null,
   "id": "a7e483cc-dbf1-465b-9e57-29e6414de1bb",
   "metadata": {},
   "outputs": [],
   "source": []
  }
 ],
 "metadata": {
  "kernelspec": {
   "display_name": "Python 3 (ipykernel)",
   "language": "python",
   "name": "python3"
  },
  "language_info": {
   "codemirror_mode": {
    "name": "ipython",
    "version": 3
   },
   "file_extension": ".py",
   "mimetype": "text/x-python",
   "name": "python",
   "nbconvert_exporter": "python",
   "pygments_lexer": "ipython3",
   "version": "3.11.6"
  }
 },
 "nbformat": 4,
 "nbformat_minor": 5
}
