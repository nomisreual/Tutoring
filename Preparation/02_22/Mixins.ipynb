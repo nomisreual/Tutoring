{
 "cells": [
  {
   "cell_type": "markdown",
   "id": "d5666c89-1df0-416f-b13f-db67ca063476",
   "metadata": {},
   "source": [
    "# Multiple Inheritance\n",
    "When one class inherits not from one but more classes, it's called multiple inheritance.\n",
    "\n",
    "<img src=\"./images/multiple_inheritance.svg\">"
   ]
  },
  {
   "cell_type": "markdown",
   "id": "fd7978da-cf81-4adc-a1bf-35b8cbb92e88",
   "metadata": {},
   "source": [
    "Here, class C inherits from class A and class B. In what order does class C inherit from class A and B though? Consider the case in which class A and B both have a method called `say_hi()`."
   ]
  },
  {
   "cell_type": "code",
   "execution_count": 1,
   "id": "a9a68cb4-d526-4dc1-9e27-122589be1619",
   "metadata": {},
   "outputs": [
    {
     "name": "stdout",
     "output_type": "stream",
     "text": [
      "Hello from class A.\n",
      "Hello from class B.\n"
     ]
    }
   ],
   "source": [
    "class A:\n",
    "    def say_hi(self):\n",
    "        print(\"Hello from class A.\")\n",
    "\n",
    "class B:\n",
    "    def say_hi(self):\n",
    "        print(\"Hello from class B.\")\n",
    "\n",
    "class C(A, B):\n",
    "    pass\n",
    "\n",
    "class D(B, A):\n",
    "    pass\n",
    "\n",
    "c = C()\n",
    "d = D()\n",
    "c.say_hi()\n",
    "d.say_hi()"
   ]
  },
  {
   "cell_type": "markdown",
   "id": "d3614292-a327-4779-b3a5-928a590b975e",
   "metadata": {},
   "source": [
    "As you can see, class C inherited the `say_hi()` method from class A and class D inherited `say_hi()` from class B. This is due to the method resolution order, where Python looks for method definitions across the child class and all its parent classes."
   ]
  },
  {
   "cell_type": "code",
   "execution_count": 2,
   "id": "d3a9d7ea-e136-451b-8ca0-a8069c42b943",
   "metadata": {},
   "outputs": [
    {
     "name": "stdout",
     "output_type": "stream",
     "text": [
      "(<class '__main__.C'>, <class '__main__.A'>, <class '__main__.B'>, <class 'object'>)\n",
      "(<class '__main__.D'>, <class '__main__.B'>, <class '__main__.A'>, <class 'object'>)\n"
     ]
    }
   ],
   "source": [
    "print(C.__mro__)\n",
    "print(D.__mro__)"
   ]
  },
  {
   "cell_type": "markdown",
   "id": "4292f430-3f2f-439d-a58b-24139c28c359",
   "metadata": {},
   "source": [
    "# Mixins\n",
    "What are mixins then? They are a special type of class that aim to solve a specific type of problem. Consider the following class diagram:\n",
    "\n",
    "<img src=\"./images/framework.svg\">\n",
    "\n",
    "Here, we want to use this framework, but we want to adjust the behaviour of class B and C. Let's say we want a method that prints *total* set in class A.\n",
    "\n",
    "The most straightforward approach could look like this:\n",
    "\n",
    "<img src=\"./images/framework_naive.svg\">\n",
    "\n",
    "This, however, leads to code duplication. A solution involvin a mixin class would look like this instead:\n",
    "\n",
    "<img src=\"./images/framework_mixin.svg\">\n",
    "\n",
    "Here, the `print()` method is only defined once, namely in the Mixin class from which class D and E both inherit from (apart from inheriting from B and C, respectively)."
   ]
  },
  {
   "cell_type": "code",
   "execution_count": 3,
   "id": "3b2c78d4-a59d-4411-989e-7a8b277b0858",
   "metadata": {},
   "outputs": [
    {
     "name": "stdout",
     "output_type": "stream",
     "text": [
      "42\n",
      "42\n"
     ]
    }
   ],
   "source": [
    "# Let's look at the last implementation in code:\n",
    "\n",
    "# Framework part:\n",
    "class A:\n",
    "    total = 42\n",
    "\n",
    "class B(A):\n",
    "    pass\n",
    "\n",
    "class C(A):\n",
    "    pass\n",
    "\n",
    "# Own code:\n",
    "class Mixin:\n",
    "    def print_total(self):\n",
    "        print(self.total)\n",
    "\n",
    "class D(B, Mixin):\n",
    "    pass\n",
    "\n",
    "class E(C, Mixin):\n",
    "    pass\n",
    "\n",
    "d = D()\n",
    "e = E()\n",
    "\n",
    "d.print_total()\n",
    "e.print_total()"
   ]
  }
 ],
 "metadata": {
  "kernelspec": {
   "display_name": "Python 3 (ipykernel)",
   "language": "python",
   "name": "python3"
  },
  "language_info": {
   "codemirror_mode": {
    "name": "ipython",
    "version": 3
   },
   "file_extension": ".py",
   "mimetype": "text/x-python",
   "name": "python",
   "nbconvert_exporter": "python",
   "pygments_lexer": "ipython3",
   "version": "3.11.6"
  }
 },
 "nbformat": 4,
 "nbformat_minor": 5
}
