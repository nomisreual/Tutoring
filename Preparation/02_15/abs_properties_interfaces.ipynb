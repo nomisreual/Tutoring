{
 "cells": [
  {
   "cell_type": "code",
   "execution_count": null,
   "id": "bbdf565f-25cc-4885-9026-36eef74ec2b7",
   "metadata": {
    "jupyter": {
     "source_hidden": true
    }
   },
   "outputs": [],
   "source": [
    "# Can you force a subclass to implement a property by combining two decorators?\n",
    "# @abstractmethod and @property"
   ]
  },
  {
   "cell_type": "code",
   "execution_count": null,
   "id": "de7baf3f-5593-4c23-be80-fb8d15b569df",
   "metadata": {
    "jupyter": {
     "source_hidden": true
    }
   },
   "outputs": [],
   "source": [
    "# Example:\n",
    "from abc import ABC, abstractmethod\n",
    "\n",
    "class Base(ABC):\n",
    "    def __init__(self, number):\n",
    "        self._number = number\n",
    "\n",
    "    @property\n",
    "    @abstractmethod\n",
    "    def number(self):\n",
    "        pass\n",
    "\n",
    "class Implementation(Base):\n",
    "    def number(self):\n",
    "        return self._number\n",
    "\n",
    "impl = Implementation(number=42)\n",
    "print(impl.number)"
   ]
  },
  {
   "cell_type": "code",
   "execution_count": null,
   "id": "7a74a608-d2c4-4d58-b515-39dd3383cc9d",
   "metadata": {
    "jupyter": {
     "source_hidden": true
    }
   },
   "outputs": [],
   "source": [
    "# Oops, applying the @property decorator is not enforced. Hence, forgetting it won't raise an error,\n",
    "# but number is now a regular method and not a property."
   ]
  },
  {
   "cell_type": "code",
   "execution_count": null,
   "id": "b82db512-8cea-49cf-abf4-061d38d660d9",
   "metadata": {
    "jupyter": {
     "source_hidden": true
    }
   },
   "outputs": [],
   "source": [
    "class Base(ABC):\n",
    "    def __init__(self, number):\n",
    "        self._number = number\n",
    "\n",
    "    # Please define it as a property!\n",
    "    @abstractmethod\n",
    "    def number(self):\n",
    "        pass\n",
    "\n",
    "class Implementation(Base):\n",
    "    @property\n",
    "    def number(self):\n",
    "        return self._number\n",
    "\n",
    "impl = Implementation(number=42)\n",
    "print(impl.number)\n",
    "\n",
    "# We can rely on other means like code reviews to enforce it. However, I am not aware of how to enforce it\n",
    "# through the language."
   ]
  },
  {
   "cell_type": "code",
   "execution_count": null,
   "id": "6169ff4d-52b6-48aa-a5b0-c6def2cea898",
   "metadata": {
    "jupyter": {
     "source_hidden": true
    }
   },
   "outputs": [],
   "source": [
    "# Interfaces: requiring methods and class attributes to be defined, set.\n",
    "# Just for reference:\n",
    "\n",
    "from abc import ABCMeta, abstractmethod\n",
    "\n",
    "\n",
    "class Shape(metaclass=ABCMeta):\n",
    "    @classmethod\n",
    "    def __subclasshook__(cls, subclass):\n",
    "        return (hasattr(subclass, \"sides\") and\n",
    "                hasattr(subclass, \"area\") and\n",
    "                callable(subclass.area))\n",
    "\n",
    "    @abstractmethod\n",
    "    def area(self):\n",
    "        raise NotImplementedError\n",
    "\n",
    "\n",
    "class Square(Shape):\n",
    "    sides = 4\n",
    "\n",
    "    def __init__(self, length: int) -> None:\n",
    "        self.__length = length\n",
    "\n",
    "    def area(self):\n",
    "        return self._Square__length * self._Square__length\n",
    "\n",
    "\n",
    "square = Square(length=5)\n",
    "print(issubclass(Square, Shape))\n",
    "print(isinstance(square, Shape))"
   ]
  },
  {
   "cell_type": "code",
   "execution_count": null,
   "id": "de4a9143-a718-4529-b567-e362cc85e975",
   "metadata": {
    "jupyter": {
     "source_hidden": true
    }
   },
   "outputs": [],
   "source": [
    "# By using ABCMeta as metaclass of our Shape interface, we can ensure that subclasses of Shape set a class\n",
    "# attribute called sides. If you don't you will be able to instantiate it, but it won't be recognized as a\n",
    "# subclass of our interface which is nice for testing. Making sure our implementations adhere to what the \n",
    "# interface dictates."
   ]
  }
 ],
 "metadata": {
  "kernelspec": {
   "display_name": "Python 3 (ipykernel)",
   "language": "python",
   "name": "python3"
  },
  "language_info": {
   "codemirror_mode": {
    "name": "ipython",
    "version": 3
   },
   "file_extension": ".py",
   "mimetype": "text/x-python",
   "name": "python",
   "nbconvert_exporter": "python",
   "pygments_lexer": "ipython3",
   "version": "3.11.6"
  }
 },
 "nbformat": 4,
 "nbformat_minor": 5
}
