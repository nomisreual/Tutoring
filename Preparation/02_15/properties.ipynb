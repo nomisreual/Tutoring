{
 "cells": [
  {
   "cell_type": "code",
   "execution_count": 25,
   "id": "60bdba0c-e072-4e36-bb6e-aab221244475",
   "metadata": {},
   "outputs": [],
   "source": [
    "# property() or @property allows us to add managed\n",
    "# attributes to our class, so called properties"
   ]
  },
  {
   "cell_type": "code",
   "execution_count": 26,
   "id": "9ff79fbe-09b6-496b-8806-f16b52aa578b",
   "metadata": {},
   "outputs": [],
   "source": [
    "# Properties allow you to define methods that behave\n",
    "# like attributes."
   ]
  },
  {
   "cell_type": "code",
   "execution_count": 27,
   "id": "05e681e4-0571-4795-ba5d-f3d038dc7c7e",
   "metadata": {},
   "outputs": [],
   "source": [
    "# Let's first use some other techniques:"
   ]
  },
  {
   "cell_type": "code",
   "execution_count": 28,
   "id": "29e35962-d7ef-468e-b8a5-f230617a7d02",
   "metadata": {},
   "outputs": [
    {
     "name": "stdout",
     "output_type": "stream",
     "text": [
      "3\n",
      "5\n",
      "1\n",
      "8\n"
     ]
    }
   ],
   "source": [
    "# getters and setters:\n",
    "\n",
    "class Point:\n",
    "    def __init__(self, x, y):\n",
    "        self._x = x\n",
    "        self._y = y\n",
    "    def get_x(self):\n",
    "        return self._x\n",
    "    def set_x(self, x):\n",
    "        self._x = x\n",
    "    def get_y(self):\n",
    "        return self._y\n",
    "    def set_y(self, y):\n",
    "        self._y = y\n",
    "\n",
    "point = Point(3, 5)\n",
    "\n",
    "print(point.get_x())\n",
    "print(point.get_y())\n",
    "\n",
    "point.set_x(1)\n",
    "point.set_y(8)\n",
    "\n",
    "print(point.get_x())\n",
    "print(point.get_y())"
   ]
  },
  {
   "cell_type": "code",
   "execution_count": 29,
   "id": "c9c70cc0-abb2-4f4b-9d49-05a9e3354d4a",
   "metadata": {},
   "outputs": [
    {
     "name": "stdout",
     "output_type": "stream",
     "text": [
      "3\n",
      "5\n",
      "1\n",
      "8\n"
     ]
    }
   ],
   "source": [
    "# It is common in practice in python though to just\n",
    "# expose attributes publicly removing the need for \n",
    "# getters and setters\n",
    "\n",
    "class Point:\n",
    "    def __init__(self, x, y):\n",
    "        self.x = x\n",
    "        self.y = y\n",
    "\n",
    "point = Point(3,5)\n",
    "\n",
    "print(point.x)\n",
    "print(point.y)\n",
    "\n",
    "point.x = 1\n",
    "point.y = 8\n",
    "\n",
    "print(point.x)\n",
    "print(point.y)"
   ]
  },
  {
   "cell_type": "code",
   "execution_count": 30,
   "id": "c7f5030d-fc3f-4cd9-b6a7-4830827d5e32",
   "metadata": {},
   "outputs": [
    {
     "name": "stdout",
     "output_type": "stream",
     "text": [
      "3\n",
      "5\n",
      "1\n",
      "8\n",
      "1\n",
      "['__class__', '__delattr__', '__delete__', '__dir__', '__doc__', '__eq__', '__format__', '__ge__', '__get__', '__getattribute__', '__getstate__', '__gt__', '__hash__', '__init__', '__init_subclass__', '__isabstractmethod__', '__le__', '__lt__', '__ne__', '__new__', '__reduce__', '__reduce_ex__', '__repr__', '__set__', '__set_name__', '__setattr__', '__sizeof__', '__str__', '__subclasshook__', 'deleter', 'fdel', 'fget', 'fset', 'getter', 'setter']\n"
     ]
    }
   ],
   "source": [
    "# If you want getters and setters, for example to attach\n",
    "# more logic to it, but still want your attributes to be\n",
    "# easy to reach is where properties shine.\n",
    "\n",
    "# They essentially expose your getters and setters in a\n",
    "# neat way. The best way to illustrate this is by using\n",
    "# the property function itself:\n",
    "\n",
    "class Point:\n",
    "    def __init__(self, x, y):\n",
    "        self._x = x\n",
    "        self._y = y\n",
    "    # Non-public getters, setters and deleters:\n",
    "    def _get_x(self):\n",
    "        return self._x\n",
    "        \n",
    "    def _set_x(self, x):\n",
    "        self._x = x\n",
    "        \n",
    "    def _del_x(self):\n",
    "        del self._x\n",
    "        \n",
    "    def _get_y(self):\n",
    "        return self._y\n",
    "        \n",
    "    def _set_y(self, y):\n",
    "        self._y = y\n",
    "        \n",
    "    def _del_y(self):\n",
    "        del self._y\n",
    "\n",
    "    # define two properties:\n",
    "    x = property(\n",
    "        fget=_get_x,\n",
    "        fset=_set_x,\n",
    "        fdel=_del_x\n",
    "    )\n",
    "    y = property(\n",
    "        fget=_get_y,\n",
    "        fset=_set_y,\n",
    "        fdel=_del_y\n",
    "    )\n",
    "\n",
    "# Usage:\n",
    "point = Point(3, 5)\n",
    "print(point.x)\n",
    "print(point.y)\n",
    "point.x = 1\n",
    "point.y = 8\n",
    "print(point.x)\n",
    "print(point.y)\n",
    "\n",
    "del point.x\n",
    "# print(point.x) # _x is no more\n",
    "# let's get it back\n",
    "point.x = 1\n",
    "print(point.x)\n",
    "print(dir(Point.x))"
   ]
  },
  {
   "cell_type": "code",
   "execution_count": 31,
   "id": "34fdfd5f-4b83-4b4d-9929-13ed527a0e88",
   "metadata": {},
   "outputs": [],
   "source": [
    "# Properties are class methods that manage instance\n",
    "# attributes."
   ]
  },
  {
   "cell_type": "code",
   "execution_count": 32,
   "id": "1ce4c126-80d4-4a74-a92e-8feb015e57c0",
   "metadata": {},
   "outputs": [
    {
     "name": "stdout",
     "output_type": "stream",
     "text": [
      "3\n",
      "5\n",
      "1\n",
      "8\n"
     ]
    }
   ],
   "source": [
    "# A more concise use involves the @property decorator:\n",
    "\n",
    "class Point:\n",
    "    def __init__(self, x, y):\n",
    "        self._x = x\n",
    "        self._y = y\n",
    "\n",
    "    @property\n",
    "    def x(self):\n",
    "        return self._x\n",
    "    \n",
    "    @x.setter\n",
    "    def x(self, x):\n",
    "        self._x = x\n",
    "        \n",
    "    @x.deleter\n",
    "    def x(self):\n",
    "        del self._x\n",
    "\n",
    "    @property\n",
    "    def y(self):\n",
    "        return self._y\n",
    "    \n",
    "    @y.setter\n",
    "    def y(self, x):\n",
    "        self._y = x\n",
    "        \n",
    "    @y.deleter\n",
    "    def y(self):\n",
    "        del self._y\n",
    "\n",
    "# Usage:\n",
    "point = Point(3, 5)\n",
    "print(point.x)\n",
    "print(point.y)\n",
    "point.x = 1\n",
    "point.y = 8\n",
    "print(point.x)\n",
    "print(point.y)"
   ]
  },
  {
   "cell_type": "code",
   "execution_count": 33,
   "id": "e5a8df36-ec19-41f8-8683-e4ea32617765",
   "metadata": {},
   "outputs": [
    {
     "name": "stdout",
     "output_type": "stream",
     "text": [
      "16\n",
      "That's cool, huh?\n"
     ]
    }
   ],
   "source": [
    "# That's nice, but what is really cool is that you are\n",
    "# now able to attach additional logic to your properties,\n",
    "# like access control or input validation.\n",
    "\n",
    "# Also you can define properties that are computed at\n",
    "# runtime, meaning they are computed when requested.\n",
    "\n",
    "# Example:\n",
    "\n",
    "class Square:\n",
    "    def __init__(self, length):\n",
    "        self.length = length\n",
    "\n",
    "    @property\n",
    "    def area(self):\n",
    "        return self.length * self.length\n",
    "\n",
    "square = Square(4)\n",
    "print(square.area)\n",
    "\n",
    "print(\"That's cool, huh?\")"
   ]
  },
  {
   "cell_type": "code",
   "execution_count": 34,
   "id": "ab77a3c0-5176-4cbe-9dbe-49c003332c4d",
   "metadata": {},
   "outputs": [
    {
     "name": "stdout",
     "output_type": "stream",
     "text": [
      "id must be an integer\n",
      "['__class__', '__delattr__', '__dict__', '__dir__', '__doc__', '__eq__', '__format__', '__ge__', '__getattribute__', '__getstate__', '__gt__', '__hash__', '__init__', '__init_subclass__', '__le__', '__lt__', '__module__', '__ne__', '__new__', '__reduce__', '__reduce_ex__', '__repr__', '__setattr__', '__sizeof__', '__str__', '__subclasshook__', '__weakref__', '_id', 'id', 'name']\n"
     ]
    }
   ],
   "source": [
    "# Another example incorporating input validation:\n",
    "class Person:\n",
    "    def __init__(self, name: str, id: int) -> None:\n",
    "        self.name = name\n",
    "        self._id = id\n",
    "\n",
    "    @property\n",
    "    def id(self):\n",
    "        return self._id\n",
    "\n",
    "    @id.setter\n",
    "    def id(self, id):\n",
    "        try:\n",
    "            self._id = int(id)\n",
    "        except ValueError:\n",
    "            # if you want just a message:\n",
    "            print(\"id must be an integer\")\n",
    "            # if you want it to break execution:\n",
    "            # raise ValueError(\"id must be an integer\")\n",
    "            # hide some details that are not needed for the end-user\n",
    "            #raise ValueError(\"id must be an integer\") from None\n",
    "            \n",
    "\n",
    "person = Person(\"Simon\", 1)\n",
    "person.id = \"my_id\"\n",
    "print(dir(person))\n"
   ]
  },
  {
   "cell_type": "code",
   "execution_count": 35,
   "id": "10f3f101-74a9-4a1b-b718-52c41d9dacec",
   "metadata": {},
   "outputs": [
    {
     "name": "stdout",
     "output_type": "stream",
     "text": [
      "42\n",
      "8\n"
     ]
    }
   ],
   "source": [
    "class MyClass:\n",
    "    def __init__(self, x):\n",
    "        self._x = x\n",
    "\n",
    "    @property\n",
    "    def x(self):\n",
    "        return self._x\n",
    "\n",
    "example = MyClass(42)\n",
    "print(example.x)\n",
    "# example.x = 8\n",
    "example._x = 8\n",
    "print(example.x)"
   ]
  },
  {
   "cell_type": "code",
   "execution_count": null,
   "id": "88049598-c240-4492-93f9-94b408c2bebd",
   "metadata": {},
   "outputs": [],
   "source": []
  },
  {
   "cell_type": "code",
   "execution_count": 36,
   "id": "27e96da9-2f45-4c98-9939-70f59939f663",
   "metadata": {},
   "outputs": [
    {
     "ename": "AttributeError",
     "evalue": "Not allowed!",
     "output_type": "error",
     "traceback": [
      "\u001b[0;31m---------------------------------------------------------------------------\u001b[0m",
      "\u001b[0;31mAttributeError\u001b[0m                            Traceback (most recent call last)",
      "Cell \u001b[0;32mIn[36], line 15\u001b[0m\n\u001b[1;32m     13\u001b[0m write_only \u001b[38;5;241m=\u001b[39m WriteOnly(\u001b[38;5;241m8\u001b[39m)\n\u001b[1;32m     14\u001b[0m write_only\u001b[38;5;241m.\u001b[39mx \u001b[38;5;241m=\u001b[39m \u001b[38;5;241m40\u001b[39m\n\u001b[0;32m---> 15\u001b[0m \u001b[38;5;28mprint\u001b[39m(\u001b[43mwrite_only\u001b[49m\u001b[38;5;241;43m.\u001b[39;49m\u001b[43mx\u001b[49m)\n",
      "Cell \u001b[0;32mIn[36], line 8\u001b[0m, in \u001b[0;36mWriteOnly.x\u001b[0;34m(self)\u001b[0m\n\u001b[1;32m      6\u001b[0m \u001b[38;5;129m@property\u001b[39m\n\u001b[1;32m      7\u001b[0m \u001b[38;5;28;01mdef\u001b[39;00m \u001b[38;5;21mx\u001b[39m(\u001b[38;5;28mself\u001b[39m):\n\u001b[0;32m----> 8\u001b[0m     \u001b[38;5;28;01mraise\u001b[39;00m \u001b[38;5;167;01mAttributeError\u001b[39;00m(\u001b[38;5;124m\"\u001b[39m\u001b[38;5;124mNot allowed!\u001b[39m\u001b[38;5;124m\"\u001b[39m)\n",
      "\u001b[0;31mAttributeError\u001b[0m: Not allowed!"
     ]
    }
   ],
   "source": [
    "# Write only property:\n",
    "\n",
    "class WriteOnly:\n",
    "    def __init__(self, x):\n",
    "        self._x = x\n",
    "    @property\n",
    "    def x(self):\n",
    "        raise AttributeError(\"Not allowed!\")\n",
    "    @x.setter\n",
    "    def x(self, x):\n",
    "        self._x = x\n",
    "\n",
    "write_only = WriteOnly(8)\n",
    "write_only.x = 40\n",
    "print(write_only.x)"
   ]
  },
  {
   "cell_type": "code",
   "execution_count": null,
   "id": "177c6ddf-cb26-4a26-8e15-a15b18239869",
   "metadata": {},
   "outputs": [],
   "source": []
  }
 ],
 "metadata": {
  "kernelspec": {
   "display_name": "Python 3 (ipykernel)",
   "language": "python",
   "name": "python3"
  },
  "language_info": {
   "codemirror_mode": {
    "name": "ipython",
    "version": 3
   },
   "file_extension": ".py",
   "mimetype": "text/x-python",
   "name": "python",
   "nbconvert_exporter": "python",
   "pygments_lexer": "ipython3",
   "version": "3.11.6"
  }
 },
 "nbformat": 4,
 "nbformat_minor": 5
}
