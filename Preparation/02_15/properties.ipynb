{
 "cells": [
  {
   "cell_type": "code",
   "execution_count": null,
   "id": "60bdba0c-e072-4e36-bb6e-aab221244475",
   "metadata": {},
   "outputs": [],
   "source": [
    "# property() or @property allows us to add managed\n",
    "# attributes to our class, so called properties"
   ]
  },
  {
   "cell_type": "code",
   "execution_count": null,
   "id": "9ff79fbe-09b6-496b-8806-f16b52aa578b",
   "metadata": {},
   "outputs": [],
   "source": [
    "# Properties allow you to define methods that behave\n",
    "# like attributes."
   ]
  },
  {
   "cell_type": "code",
   "execution_count": null,
   "id": "05e681e4-0571-4795-ba5d-f3d038dc7c7e",
   "metadata": {},
   "outputs": [],
   "source": [
    "# Let's first use some other techniques:"
   ]
  },
  {
   "cell_type": "code",
   "execution_count": null,
   "id": "29e35962-d7ef-468e-b8a5-f230617a7d02",
   "metadata": {},
   "outputs": [],
   "source": [
    "# getters and setters:\n",
    "\n",
    "class Point:\n",
    "    def __init__(self, x, y):\n",
    "        self._x = x\n",
    "        self._y = y\n",
    "    def get_x(self):\n",
    "        return self._x\n",
    "    def set_x(self, x):\n",
    "        self._x = x\n",
    "    def get_y(self):\n",
    "        return self._y\n",
    "    def set_y(self, y):\n",
    "        self._y = y\n",
    "\n",
    "point = Point(3, 5)\n",
    "\n",
    "print(point.get_x())\n",
    "print(point.get_y())\n",
    "\n",
    "point.set_x(1)\n",
    "point.set_y(8)\n",
    "\n",
    "print(point.get_x())\n",
    "print(point.get_y())"
   ]
  },
  {
   "cell_type": "code",
   "execution_count": null,
   "id": "c9c70cc0-abb2-4f4b-9d49-05a9e3354d4a",
   "metadata": {},
   "outputs": [],
   "source": [
    "# It is common in practice in python though to just\n",
    "# expose attributes publicly removing the need for \n",
    "# getters and setters\n",
    "\n",
    "class Point:\n",
    "    def __init__(self, x, y):\n",
    "        self.x = x\n",
    "        self.y = y\n",
    "\n",
    "point = Point(3,5)\n",
    "\n",
    "print(point.x)\n",
    "print(point.y)\n",
    "\n",
    "point.x = 1\n",
    "point.y = 8\n",
    "\n",
    "print(point.x)\n",
    "print(point.y)"
   ]
  },
  {
   "cell_type": "code",
   "execution_count": null,
   "id": "c7f5030d-fc3f-4cd9-b6a7-4830827d5e32",
   "metadata": {},
   "outputs": [],
   "source": [
    "# If you want getters and setters, for example to attach\n",
    "# more logic to it, but still want your attributes to be\n",
    "# easy to reach is where properties shine.\n",
    "\n",
    "# They essentially expose your getters and setters in a\n",
    "# neat way. The best way to illustrate this is by using\n",
    "# the property function itself:\n",
    "\n",
    "class Point:\n",
    "    def __init__(self, x, y):\n",
    "        self._x = x\n",
    "        self._y = y\n",
    "    # Non-public getters, setters and deleters:\n",
    "    def _get_x(self):\n",
    "        return self._x\n",
    "        \n",
    "    def _set_x(self, x):\n",
    "        self._x = x\n",
    "        \n",
    "    def _del_x(self):\n",
    "        del self._x\n",
    "        \n",
    "    def _get_y(self):\n",
    "        return self._y\n",
    "        \n",
    "    def _set_y(self, y):\n",
    "        self._y = y\n",
    "        \n",
    "    def _del_y(self):\n",
    "        del self._y\n",
    "\n",
    "    # define two properties:\n",
    "    x = property(\n",
    "        fget=_get_x,\n",
    "        fset=_set_x,\n",
    "        fdel=_del_x\n",
    "    )\n",
    "    y = property(\n",
    "        fget=_get_y,\n",
    "        fset=_set_y,\n",
    "        fdel=_del_y\n",
    "    )\n",
    "\n",
    "# Usage:\n",
    "point = Point(3, 5)\n",
    "print(point.x)\n",
    "print(point.y)\n",
    "point.x = 1\n",
    "point.y = 8\n",
    "print(point.x)\n",
    "print(point.y)\n",
    "\n",
    "del point.x\n",
    "# print(point.x) # _x is no more\n",
    "# let's get it back\n",
    "point.x = 1\n",
    "print(point.x)\n",
    "print(dir(Point.x))"
   ]
  },
  {
   "cell_type": "code",
   "execution_count": null,
   "id": "34fdfd5f-4b83-4b4d-9929-13ed527a0e88",
   "metadata": {
    "jupyter": {
     "source_hidden": true
    }
   },
   "outputs": [],
   "source": [
    "# Properties are class methods that manage instance\n",
    "# attributes."
   ]
  },
  {
   "cell_type": "code",
   "execution_count": null,
   "id": "1ce4c126-80d4-4a74-a92e-8feb015e57c0",
   "metadata": {
    "jupyter": {
     "source_hidden": true
    }
   },
   "outputs": [],
   "source": [
    "# A more concise use involves the @property decorator:\n",
    "\n",
    "class Point:\n",
    "    def __init__(self, x, y):\n",
    "        self._x = x\n",
    "        self._y = y\n",
    "\n",
    "    @property\n",
    "    def x(self):\n",
    "        return self._x\n",
    "    \n",
    "    @x.setter\n",
    "    def x(self, x):\n",
    "        self._x = x\n",
    "        \n",
    "    @x.deleter\n",
    "    def x(self):\n",
    "        del self._x\n",
    "\n",
    "    @property\n",
    "    def y(self):\n",
    "        return self._y\n",
    "    \n",
    "    @y.setter\n",
    "    def y(self, x):\n",
    "        self._y = x\n",
    "        \n",
    "    @y.deleter\n",
    "    def y(self):\n",
    "        del self._y\n",
    "\n",
    "# Usage:\n",
    "point = Point(3, 5)\n",
    "print(point.x)\n",
    "print(point.y)\n",
    "point.x = 1\n",
    "point.y = 8\n",
    "print(point.x)\n",
    "print(point.y)"
   ]
  },
  {
   "cell_type": "code",
   "execution_count": null,
   "id": "e5a8df36-ec19-41f8-8683-e4ea32617765",
   "metadata": {
    "jupyter": {
     "source_hidden": true
    }
   },
   "outputs": [],
   "source": [
    "# That's nice, but what is really cool is that you are\n",
    "# now able to attach additional logic to your properties,\n",
    "# like access control or input validation.\n",
    "\n",
    "# Also you can define properties that are computed at\n",
    "# runtime, meaning they are computed when requested.\n",
    "\n",
    "# Example:\n",
    "\n",
    "class Square:\n",
    "    def __init__(self, length):\n",
    "        self.length = length\n",
    "\n",
    "    @property\n",
    "    def area(self):\n",
    "        return self.length * self.length\n",
    "\n",
    "square = Square(4)\n",
    "print(square.area)\n",
    "\n",
    "print(\"That's cool, huh?\")"
   ]
  },
  {
   "cell_type": "code",
   "execution_count": null,
   "id": "ab77a3c0-5176-4cbe-9dbe-49c003332c4d",
   "metadata": {
    "jupyter": {
     "source_hidden": true
    }
   },
   "outputs": [],
   "source": [
    "# Another example incorporating input validation:\n",
    "class Person:\n",
    "    def __init__(self, name: str, id: int) -> None:\n",
    "        self.name = name\n",
    "        self._id = id\n",
    "\n",
    "    @property\n",
    "    def id(self):\n",
    "        return self._id\n",
    "\n",
    "    @id.setter\n",
    "    def id(self, id):\n",
    "        try:\n",
    "            self._id = int(id)\n",
    "        except ValueError:\n",
    "            # if you want just a message:\n",
    "            # print(\"id must be an integer\")\n",
    "            # if you want it to break execution:\n",
    "            # raise ValueError(\"id must be an integer\")\n",
    "            # hide some details that are not needed for the end-user\n",
    "            raise ValueError(\"id must be an integer\") from None\n",
    "            \n",
    "\n",
    "person = Person(\"Simon\", 1)\n",
    "person.id = \"my_id\"\n",
    "\n"
   ]
  },
  {
   "cell_type": "code",
   "execution_count": null,
   "id": "10f3f101-74a9-4a1b-b718-52c41d9dacec",
   "metadata": {
    "jupyter": {
     "source_hidden": true
    }
   },
   "outputs": [],
   "source": []
  }
 ],
 "metadata": {
  "kernelspec": {
   "display_name": "Python 3 (ipykernel)",
   "language": "python",
   "name": "python3"
  },
  "language_info": {
   "codemirror_mode": {
    "name": "ipython",
    "version": 3
   },
   "file_extension": ".py",
   "mimetype": "text/x-python",
   "name": "python",
   "nbconvert_exporter": "python",
   "pygments_lexer": "ipython3",
   "version": "3.11.6"
  }
 },
 "nbformat": 4,
 "nbformat_minor": 5
}
