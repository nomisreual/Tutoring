{
 "cells": [
  {
   "cell_type": "code",
   "execution_count": 1,
   "id": "9ee3dd6f-1637-43f9-b74e-1c2a89de164c",
   "metadata": {},
   "outputs": [],
   "source": [
    "# Consider wanting to queue up for a ride in a roller coaster. The queue, however, is so long\n",
    "# you can't determine how many there are at first glance.\n",
    "\n",
    "# What can you do?"
   ]
  },
  {
   "cell_type": "code",
   "execution_count": 2,
   "id": "20aa5626-05f0-4d6d-9c04-665ddab3f10c",
   "metadata": {},
   "outputs": [],
   "source": [
    "#\n",
    "# You could ask the last person in the queue and ask: how many are in front of you?\n",
    "# If there is someone in front of that person, he responds: Hold on, I am gonna ask the person\n",
    "# in front of me. Is there no one in front of him, he responds with: I am the first in line.\n",
    "# This asking the person in front of you propagates through the entire queue until the person in front is found.\n",
    "\n",
    "# The responses are now propagated backwards:\n",
    "\n",
    "# The person in front: Here is no one in front of me.\n",
    "# The second to last person responds with: there is (1 + 0) people ahead of me.\n",
    "# The third to last person responds with there are (1 + 1) people ahead of me.\n",
    "# ...\n",
    "# Until you reach back to the end of line."
   ]
  },
  {
   "cell_type": "code",
   "execution_count": 3,
   "id": "2396f53d-c8ab-41e8-aa72-ae5c4c91100d",
   "metadata": {},
   "outputs": [],
   "source": [
    "# The asking \"how many are in front of you\" is our recursive function. We keep calling our function on\n",
    "# the remainder of the queue until the queue is empty - we have reached the base case and do not invoke \n",
    "# our function again."
   ]
  },
  {
   "cell_type": "code",
   "execution_count": 4,
   "id": "5330ee3e-6881-42f3-a6de-4106319e8976",
   "metadata": {},
   "outputs": [
    {
     "name": "stdout",
     "output_type": "stream",
     "text": [
      "7\n"
     ]
    }
   ],
   "source": [
    "# Let's look at an implementation of our queue problem:\n",
    "queue = [\"Pete\", \"Alex\", \"George\", \"Mike\", \"Fiona\", \"Linn\", \"Thomas\"]\n",
    "\n",
    "\n",
    "\n",
    "def how_many_in_front(queue):\n",
    "    if len(queue) == 0:\n",
    "        return 0\n",
    "    else:\n",
    "        return 1 + how_many_in_front(queue[1:])\n",
    "\n",
    "how_many_in_queue = how_many_in_front(queue)\n",
    "print(how_many_in_queue)\n"
   ]
  },
  {
   "cell_type": "code",
   "execution_count": 5,
   "id": "655c0fb3-27e0-4ea5-acaa-29bc7fad447c",
   "metadata": {},
   "outputs": [],
   "source": [
    "# The function is called 7 times!\n",
    "# Whenever we call our function, that call gets added to the call stack.\n",
    "# As long as a function call involves calling itself, that call is added on top of the call stack.\n",
    "# As soon as a function call does not involve calling itself, we can pop that from the call stack\n",
    "# and provide the return value to the function call below.\n",
    "# We do this (python does this) until the call stack is empty and we get our final result."
   ]
  },
  {
   "cell_type": "code",
   "execution_count": 6,
   "id": "48c9c737-b778-4fd5-819b-dfbbd96ddcc5",
   "metadata": {},
   "outputs": [
    {
     "name": "stdout",
     "output_type": "stream",
     "text": [
      "S\n",
      "i\n",
      "m\n",
      "o\n",
      "n\n",
      "S\n",
      "i\n",
      "m\n",
      "o\n",
      "n\n"
     ]
    }
   ],
   "source": [
    "# More recursion:\n",
    "\n",
    "def spell(word):\n",
    "    if len(word) == 1:\n",
    "        print(word[0])\n",
    "    else:\n",
    "        print(word[0])\n",
    "        spell(word[1:])\n",
    "\n",
    "spell(\"Simon\")\n",
    "\n",
    "def spell_iterative(word):\n",
    "    for char in word:\n",
    "        print(char)\n",
    "\n",
    "spell_iterative(\"Simon\")"
   ]
  },
  {
   "cell_type": "code",
   "execution_count": null,
   "id": "85c8f0c8-a132-40d6-93da-1c6380b463f8",
   "metadata": {
    "jupyter": {
     "source_hidden": true
    }
   },
   "outputs": [],
   "source": []
  }
 ],
 "metadata": {
  "kernelspec": {
   "display_name": "Python 3 (ipykernel)",
   "language": "python",
   "name": "python3"
  },
  "language_info": {
   "codemirror_mode": {
    "name": "ipython",
    "version": 3
   },
   "file_extension": ".py",
   "mimetype": "text/x-python",
   "name": "python",
   "nbconvert_exporter": "python",
   "pygments_lexer": "ipython3",
   "version": "3.11.6"
  }
 },
 "nbformat": 4,
 "nbformat_minor": 5
}
