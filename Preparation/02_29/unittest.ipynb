{
 "cells": [
  {
   "cell_type": "code",
   "execution_count": 2,
   "id": "9b318b07-0407-479e-a774-b4da025bd3d2",
   "metadata": {},
   "outputs": [],
   "source": [
    "# Class modelling our user:\n",
    "class User:\n",
    "    def __init__(self, username, password = \"1234\"):\n",
    "        self._username = username\n",
    "        self._password = password\n",
    "\n",
    "    @property\n",
    "    def username(self):\n",
    "        return self._username\n",
    "\n",
    "    @username.setter\n",
    "    def username(self, username):\n",
    "        self._username = username\n",
    "\n",
    "    @property\n",
    "    def password(self):\n",
    "        return self._password\n",
    "\n",
    "    @password.setter\n",
    "    def password(self, password):\n",
    "        self._password = password\n",
    "\n",
    "# \"Database\" with unique constraint on username:\n",
    "class UserRegistry:\n",
    "    def __init__(self):\n",
    "        self.users = {}\n",
    "    def add_user(self, user: User):\n",
    "        if user.username in self.users.keys():\n",
    "            raise Exception\n",
    "        else:\n",
    "            self.users[user.username] = user.password"
   ]
  },
  {
   "cell_type": "code",
   "execution_count": 6,
   "id": "ea58e4dd-87b6-4bf1-8085-70d6b1dea9c9",
   "metadata": {},
   "outputs": [],
   "source": [
    "import unittest\n",
    "\n",
    "class TestUserRegistry(unittest.TestCase):\n",
    "    def test_registration_success(self):\n",
    "        user_registry = UserRegistry()\n",
    "        self.assertEqual(len(user_registry.users),\n",
    "                         1,\n",
    "                         \"Should be one user in the database\")"
   ]
  },
  {
   "cell_type": "code",
   "execution_count": null,
   "id": "c0e901bd-dcb1-4c59-9314-c963dfd73f6e",
   "metadata": {},
   "outputs": [],
   "source": []
  }
 ],
 "metadata": {
  "kernelspec": {
   "display_name": "Python 3 (ipykernel)",
   "language": "python",
   "name": "python3"
  },
  "language_info": {
   "codemirror_mode": {
    "name": "ipython",
    "version": 3
   },
   "file_extension": ".py",
   "mimetype": "text/x-python",
   "name": "python",
   "nbconvert_exporter": "python",
   "pygments_lexer": "ipython3",
   "version": "3.11.6"
  }
 },
 "nbformat": 4,
 "nbformat_minor": 5
}
