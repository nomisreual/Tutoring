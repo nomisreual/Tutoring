{
 "cells": [
  {
   "cell_type": "markdown",
   "id": "1203df1b-ce18-4de0-bf41-c5370e8b919c",
   "metadata": {},
   "source": [
    "# Error Handling in Python\n",
    "During the execution of your application so-called exceptions might be raised. For example, a user tries to change his username, but the username he wants to choose is already taken, or a new user tries to sign up, but again the desired username is already taken. This may lead to an exception on the backend which needs to be handled. For example, by making the user aware of the fact that the username is not available. Otherwise, the user is greeted with an unpleasant server error page."
   ]
  },
  {
   "cell_type": "code",
   "execution_count": 35,
   "id": "a7d36033-b88a-4348-8f2e-d3e58d364391",
   "metadata": {},
   "outputs": [],
   "source": [
    "# Class modelling our user:\n",
    "class User:\n",
    "    def __init__(self, username, password = \"1234\"):\n",
    "        self._username = username\n",
    "        self._password = password\n",
    "\n",
    "    @property\n",
    "    def username(self):\n",
    "        return self._username\n",
    "\n",
    "    @username.setter\n",
    "    def username(self, username):\n",
    "        self._username = username\n",
    "\n",
    "    @property\n",
    "    def password(self):\n",
    "        return self._password\n",
    "\n",
    "    @password.setter\n",
    "    def password(self, password):\n",
    "        self._password = password\n",
    "\n",
    "# \"Database\" with unique constraint on username:\n",
    "class UserRegistry:\n",
    "    def __init__(self):\n",
    "        self.users = {}\n",
    "    def add_user(self, user: User):\n",
    "        if user.username in self.users.keys():\n",
    "            raise Exception\n",
    "        else:\n",
    "            self.users[user.username] = user.password"
   ]
  },
  {
   "cell_type": "code",
   "execution_count": 37,
   "id": "cdb32d6d-3063-4a39-a6bd-9127f352a594",
   "metadata": {},
   "outputs": [],
   "source": [
    "# Set up a user registry:\n",
    "user_registry = UserRegistry()\n",
    "\n",
    "# Fill up the \"database\" with users:\n",
    "usernames = [\"Simon\", \"Pete\", \"George\", \"Linda\"]\n",
    "users = [User(username) for username in usernames]\n",
    "for user in users:\n",
    "    user_registry.add_user(user)"
   ]
  },
  {
   "cell_type": "code",
   "execution_count": null,
   "id": "0816cc67-5b6a-48c5-b6b1-cc0916783cca",
   "metadata": {},
   "outputs": [],
   "source": [
    "# A new user comes along, also called Simon:\n",
    "user_registry.add_user(User(username=\"Simon\"))"
   ]
  },
  {
   "cell_type": "code",
   "execution_count": 38,
   "id": "331b3352-9e87-4691-8615-a722e4fd9473",
   "metadata": {},
   "outputs": [
    {
     "name": "stdout",
     "output_type": "stream",
     "text": [
      "That username: Simon is already taken. Please choose another username.\n",
      "Your account has been created. Welcome Henry.\n"
     ]
    }
   ],
   "source": [
    "# Let's handle this:\n",
    "def registration(username):\n",
    "    try:\n",
    "        user_registry.add_user(User(username=username))\n",
    "    except Exception:\n",
    "        print(f\"That username: {username} is already taken. Please choose another username.\")\n",
    "    else:\n",
    "        print(f\"Your account has been created. Welcome {username}.\")\n",
    "\n",
    "registration(\"Simon\")\n",
    "registration(\"Henry\")\n"
   ]
  },
  {
   "cell_type": "code",
   "execution_count": null,
   "id": "31cfc932-282a-4610-b904-90151ea42e54",
   "metadata": {},
   "outputs": [],
   "source": []
  }
 ],
 "metadata": {
  "kernelspec": {
   "display_name": "Python 3 (ipykernel)",
   "language": "python",
   "name": "python3"
  },
  "language_info": {
   "codemirror_mode": {
    "name": "ipython",
    "version": 3
   },
   "file_extension": ".py",
   "mimetype": "text/x-python",
   "name": "python",
   "nbconvert_exporter": "python",
   "pygments_lexer": "ipython3",
   "version": "3.11.6"
  }
 },
 "nbformat": 4,
 "nbformat_minor": 5
}
