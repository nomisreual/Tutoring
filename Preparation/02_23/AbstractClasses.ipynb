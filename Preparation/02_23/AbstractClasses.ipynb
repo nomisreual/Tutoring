{
 "cells": [
  {
   "cell_type": "markdown",
   "id": "3f0e879c-33e6-400d-9b69-ae5a6312eff5",
   "metadata": {},
   "source": [
    "# Abstract Classes\n",
    "\n",
    "Abstract classes are classes that shall not be instantiated, but rather serve as a base for other classes to inherit from.\n",
    "\n",
    "In that sense, abstract classes in Python can be used to define simple interfaces. Here is a simple example:"
   ]
  },
  {
   "cell_type": "code",
   "execution_count": 22,
   "id": "b40da339-2401-48ed-a49c-d6cc4db1d85f",
   "metadata": {},
   "outputs": [],
   "source": [
    "from abc import ABC, abstractmethod\n",
    "\n",
    "class Interface(ABC):\n",
    "\n",
    "    @abstractmethod\n",
    "    def connect(self, *args, **kwargs):\n",
    "        pass\n",
    "\n",
    "class DataBaseConnect(Interface):\n",
    "    def connect(self, *args, **kwargs):\n",
    "        print(\"Connection established.\")\n",
    "\n",
    "database_connect = DataBaseConnect()"
   ]
  },
  {
   "cell_type": "code",
   "execution_count": 24,
   "id": "84cea7bc-4606-43cb-9084-fc74ccabd095",
   "metadata": {},
   "outputs": [],
   "source": [
    "class Shape(ABC):\n",
    "    def __init__(self, name: str) -> None:\n",
    "        self.name = name\n",
    "\n",
    "    @abstractmethod\n",
    "    def hello(self):\n",
    "        pass\n",
    "\n",
    "        \n"
   ]
  },
  {
   "cell_type": "code",
   "execution_count": null,
   "id": "8f0362e4-ebb5-4735-9895-af63da88d78b",
   "metadata": {},
   "outputs": [],
   "source": []
  }
 ],
 "metadata": {
  "kernelspec": {
   "display_name": "Python 3 (ipykernel)",
   "language": "python",
   "name": "python3"
  },
  "language_info": {
   "codemirror_mode": {
    "name": "ipython",
    "version": 3
   },
   "file_extension": ".py",
   "mimetype": "text/x-python",
   "name": "python",
   "nbconvert_exporter": "python",
   "pygments_lexer": "ipython3",
   "version": "3.11.6"
  }
 },
 "nbformat": 4,
 "nbformat_minor": 5
}
